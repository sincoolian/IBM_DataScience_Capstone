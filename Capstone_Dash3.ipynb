{
  "nbformat": 4,
  "nbformat_minor": 0,
  "metadata": {
    "colab": {
      "name": "Capstone_Dash.ipynb",
      "provenance": [],
      "collapsed_sections": [],
      "authorship_tag": "ABX9TyOR+1okifiv5RHPGAteL/p5"
    },
    "kernelspec": {
      "name": "python3",
      "display_name": "Python 3"
    },
    "language_info": {
      "name": "python"
    }
  },
  "cells": [
    {
      "cell_type": "code",
      "metadata": {
        "colab": {
          "base_uri": "https://localhost:8080/"
        },
        "id": "Z8wSkTEKwQdw",
        "outputId": "b275485b-9479-45b6-ea26-1c664002c1eb"
      },
      "source": [
        "pip install dash"
      ],
      "execution_count": 1,
      "outputs": [
        {
          "output_type": "stream",
          "name": "stdout",
          "text": [
            "Collecting dash\n",
            "  Downloading dash-2.0.0-py3-none-any.whl (7.3 MB)\n",
            "\u001b[K     |████████████████████████████████| 7.3 MB 5.1 MB/s \n",
            "\u001b[?25hCollecting dash-core-components==2.0.0\n",
            "  Downloading dash_core_components-2.0.0.tar.gz (3.4 kB)\n",
            "Collecting flask-compress\n",
            "  Downloading Flask_Compress-1.10.1-py3-none-any.whl (7.9 kB)\n",
            "Collecting plotly>=5.0.0\n",
            "  Downloading plotly-5.3.1-py2.py3-none-any.whl (23.9 MB)\n",
            "\u001b[K     |████████████████████████████████| 23.9 MB 1.3 MB/s \n",
            "\u001b[?25hCollecting dash-html-components==2.0.0\n",
            "  Downloading dash_html_components-2.0.0.tar.gz (3.8 kB)\n",
            "Collecting dash-table==5.0.0\n",
            "  Downloading dash_table-5.0.0.tar.gz (3.4 kB)\n",
            "Requirement already satisfied: Flask>=1.0.4 in /usr/local/lib/python3.7/dist-packages (from dash) (1.1.4)\n",
            "Requirement already satisfied: Jinja2<3.0,>=2.10.1 in /usr/local/lib/python3.7/dist-packages (from Flask>=1.0.4->dash) (2.11.3)\n",
            "Requirement already satisfied: click<8.0,>=5.1 in /usr/local/lib/python3.7/dist-packages (from Flask>=1.0.4->dash) (7.1.2)\n",
            "Requirement already satisfied: itsdangerous<2.0,>=0.24 in /usr/local/lib/python3.7/dist-packages (from Flask>=1.0.4->dash) (1.1.0)\n",
            "Requirement already satisfied: Werkzeug<2.0,>=0.15 in /usr/local/lib/python3.7/dist-packages (from Flask>=1.0.4->dash) (1.0.1)\n",
            "Requirement already satisfied: MarkupSafe>=0.23 in /usr/local/lib/python3.7/dist-packages (from Jinja2<3.0,>=2.10.1->Flask>=1.0.4->dash) (2.0.1)\n",
            "Requirement already satisfied: six in /usr/local/lib/python3.7/dist-packages (from plotly>=5.0.0->dash) (1.15.0)\n",
            "Collecting tenacity>=6.2.0\n",
            "  Downloading tenacity-8.0.1-py3-none-any.whl (24 kB)\n",
            "Collecting brotli\n",
            "  Downloading Brotli-1.0.9-cp37-cp37m-manylinux1_x86_64.whl (357 kB)\n",
            "\u001b[K     |████████████████████████████████| 357 kB 45.8 MB/s \n",
            "\u001b[?25hBuilding wheels for collected packages: dash-core-components, dash-html-components, dash-table\n",
            "  Building wheel for dash-core-components (setup.py) ... \u001b[?25l\u001b[?25hdone\n",
            "  Created wheel for dash-core-components: filename=dash_core_components-2.0.0-py3-none-any.whl size=3821 sha256=b17c9cc8e4f10fa2fd92d98174f96e6d44015951d60fc07374bf1d82c2a1611a\n",
            "  Stored in directory: /root/.cache/pip/wheels/00/f9/c7/1a6437d794ed753ea9bc9079e761d4fc803a1f1f5d3697b9ec\n",
            "  Building wheel for dash-html-components (setup.py) ... \u001b[?25l\u001b[?25hdone\n",
            "  Created wheel for dash-html-components: filename=dash_html_components-2.0.0-py3-none-any.whl size=4089 sha256=fc26e5e63f304f3a2834a7b1315ff6dcbc96f16902e1297127c1ab5c7313d858\n",
            "  Stored in directory: /root/.cache/pip/wheels/ec/6b/81/05aceabd8b27f724e2c96784016287cc1bfbc349ebfda451de\n",
            "  Building wheel for dash-table (setup.py) ... \u001b[?25l\u001b[?25hdone\n",
            "  Created wheel for dash-table: filename=dash_table-5.0.0-py3-none-any.whl size=3911 sha256=ecfb2df6abf055e47a982cecc584ba8a94b1aa12d865b7cc39f097ff2c4c5232\n",
            "  Stored in directory: /root/.cache/pip/wheels/85/5d/4e/7c276b57992951dbe770bf5caad6448d0539c510663aefd2e2\n",
            "Successfully built dash-core-components dash-html-components dash-table\n",
            "Installing collected packages: tenacity, brotli, plotly, flask-compress, dash-table, dash-html-components, dash-core-components, dash\n",
            "  Attempting uninstall: plotly\n",
            "    Found existing installation: plotly 4.4.1\n",
            "    Uninstalling plotly-4.4.1:\n",
            "      Successfully uninstalled plotly-4.4.1\n",
            "Successfully installed brotli-1.0.9 dash-2.0.0 dash-core-components-2.0.0 dash-html-components-2.0.0 dash-table-5.0.0 flask-compress-1.10.1 plotly-5.3.1 tenacity-8.0.1\n"
          ]
        }
      ]
    },
    {
      "cell_type": "code",
      "metadata": {
        "id": "l5iH1kxJv6oc",
        "colab": {
          "base_uri": "https://localhost:8080/"
        },
        "outputId": "25531945-8f2d-434b-e8d9-a5b960ab1193"
      },
      "source": [
        "import pandas as pd\n",
        "import dash\n",
        "import dash_html_components as html\n",
        "import dash_core_components as dcc\n",
        "from dash.dependencies import Input, Output\n",
        "import plotly.express as px"
      ],
      "execution_count": 2,
      "outputs": [
        {
          "output_type": "stream",
          "name": "stderr",
          "text": [
            "/usr/local/lib/python3.7/dist-packages/ipykernel_launcher.py:3: UserWarning: \n",
            "The dash_html_components package is deprecated. Please replace\n",
            "`import dash_html_components as html` with `from dash import html`\n",
            "  This is separate from the ipykernel package so we can avoid doing imports until\n",
            "/usr/local/lib/python3.7/dist-packages/ipykernel_launcher.py:4: UserWarning: \n",
            "The dash_core_components package is deprecated. Please replace\n",
            "`import dash_core_components as dcc` with `from dash import dcc`\n",
            "  after removing the cwd from sys.path.\n"
          ]
        }
      ]
    },
    {
      "cell_type": "code",
      "metadata": {
        "id": "sC9NCwp4wblw"
      },
      "source": [
        "path = \"https://cf-courses-data.s3.us.cloud-object-storage.appdomain.cloud/IBM-DS0321EN-SkillsNetwork/datasets/spacex_launch_dash.csv\""
      ],
      "execution_count": 3,
      "outputs": []
    },
    {
      "cell_type": "code",
      "metadata": {
        "id": "8MwL9CeFwtOx"
      },
      "source": [
        "spacex_df = pd.read_csv(path)\n",
        "max_payload = spacex_df['Payload Mass (kg)'].max()\n",
        "min_payload = spacex_df['Payload Mass (kg)'].min()"
      ],
      "execution_count": 5,
      "outputs": []
    },
    {
      "cell_type": "code",
      "metadata": {
        "colab": {
          "base_uri": "https://localhost:8080/",
          "height": 112
        },
        "id": "2OUmzDxdw72U",
        "outputId": "0297a3ba-5a55-4456-b0dd-6d902a1c84d5"
      },
      "source": [
        "spacex_df.drop(columns='Unnamed: 0', inplace=True)\n",
        "spacex_df.head(2)"
      ],
      "execution_count": 6,
      "outputs": [
        {
          "output_type": "execute_result",
          "data": {
            "text/html": [
              "<div>\n",
              "<style scoped>\n",
              "    .dataframe tbody tr th:only-of-type {\n",
              "        vertical-align: middle;\n",
              "    }\n",
              "\n",
              "    .dataframe tbody tr th {\n",
              "        vertical-align: top;\n",
              "    }\n",
              "\n",
              "    .dataframe thead th {\n",
              "        text-align: right;\n",
              "    }\n",
              "</style>\n",
              "<table border=\"1\" class=\"dataframe\">\n",
              "  <thead>\n",
              "    <tr style=\"text-align: right;\">\n",
              "      <th></th>\n",
              "      <th>Flight Number</th>\n",
              "      <th>Launch Site</th>\n",
              "      <th>Mission Outcome</th>\n",
              "      <th>class</th>\n",
              "      <th>Payload Mass (kg)</th>\n",
              "      <th>Booster Version</th>\n",
              "      <th>Booster Version Category</th>\n",
              "    </tr>\n",
              "  </thead>\n",
              "  <tbody>\n",
              "    <tr>\n",
              "      <th>0</th>\n",
              "      <td>1</td>\n",
              "      <td>CCAFS LC-40</td>\n",
              "      <td>Success</td>\n",
              "      <td>0</td>\n",
              "      <td>0.0</td>\n",
              "      <td>F9 v1.0  B0003</td>\n",
              "      <td>v1.0</td>\n",
              "    </tr>\n",
              "    <tr>\n",
              "      <th>1</th>\n",
              "      <td>2</td>\n",
              "      <td>CCAFS LC-40</td>\n",
              "      <td>Success</td>\n",
              "      <td>0</td>\n",
              "      <td>0.0</td>\n",
              "      <td>F9 v1.0  B0004</td>\n",
              "      <td>v1.0</td>\n",
              "    </tr>\n",
              "  </tbody>\n",
              "</table>\n",
              "</div>"
            ],
            "text/plain": [
              "   Flight Number  Launch Site  ... Booster Version  Booster Version Category\n",
              "0              1  CCAFS LC-40  ...  F9 v1.0  B0003                      v1.0\n",
              "1              2  CCAFS LC-40  ...  F9 v1.0  B0004                      v1.0\n",
              "\n",
              "[2 rows x 7 columns]"
            ]
          },
          "metadata": {},
          "execution_count": 6
        }
      ]
    },
    {
      "cell_type": "code",
      "metadata": {
        "colab": {
          "base_uri": "https://localhost:8080/"
        },
        "id": "fz3yGLGDxlV7",
        "outputId": "ae07d3bc-d0f6-412f-fbfd-fa1d09dbc414"
      },
      "source": [
        "spacex_df['Launch Site'].value_counts()"
      ],
      "execution_count": 7,
      "outputs": [
        {
          "output_type": "execute_result",
          "data": {
            "text/plain": [
              "CCAFS LC-40     26\n",
              "KSC LC-39A      13\n",
              "VAFB SLC-4E     10\n",
              "CCAFS SLC-40     7\n",
              "Name: Launch Site, dtype: int64"
            ]
          },
          "metadata": {},
          "execution_count": 7
        }
      ]
    },
    {
      "cell_type": "code",
      "metadata": {
        "id": "sTYW1a44x0mX"
      },
      "source": [
        "app = dash.Dash(__name__)"
      ],
      "execution_count": 8,
      "outputs": []
    },
    {
      "cell_type": "code",
      "metadata": {
        "id": "NB9jsMm5x3gI"
      },
      "source": [
        "app.layout = html.Div(children=[\n",
        "                                html.H1('SpaceX Launch Records Dashboard',\n",
        "                                        style={'textAlign': 'center', 'color': '#503D36','font-size': 40}),\n",
        "                                dcc.Dropdown(id='site-dropdown', \n",
        "                                             options=[{'label':'All Sites', 'value':'All'},\n",
        "                                                      {'label':'KSC LC-39A', 'value':'KSC LC-39A'}, \n",
        "                                                      {'label':'CCAFS LC-40', 'value':'CCAFS LC-40'},\n",
        "                                                      {'label':'VAFB SLC-4E', 'value':'VAFB SLC-4E'},\n",
        "                                                      {'label':'CCAFS SLC-40', 'value':'CCAFS SLC-40'}],\n",
        "                                             value='All', searchable=True),\n",
        "                                html.Br(),\n",
        "                                html.Div(dcc.Graph(id='success-pie-chart')),\n",
        "                                html.Br(),\n",
        "                                html.P('Payload range (Kg):'),\n",
        "                                html.Div(dcc.RangeSlider(id='payload-slider', min=0, max=10000, step=1000, value=[min_payload, max_payload])),\n",
        "                                html.Div(dcc.Graph(id='success-payload-scatter-chart')),\n",
        "                                ])\n",
        "\n"
      ],
      "execution_count": 9,
      "outputs": []
    },
    {
      "cell_type": "code",
      "metadata": {
        "id": "zO8YSRkmtm6g"
      },
      "source": [
        "@app.callback(\n",
        "    Output(component_id='success-pie-chart', component_property='figure'),\n",
        "    Input(component_id='site-dropdown', component_property='value')\n",
        ")\n",
        "def get_pie_chart(entered_site):\n",
        "  filtered_df = spacex_df\n",
        "  if entered_site == 'ALL':\n",
        "    fig = px.pie(filtered_df, values='class', names='Launch Site')\n",
        "    return fig\n",
        "  elif entered_site == 'KSC LC-39A':\n",
        "    fig = px.pie(filtered_df[filtered_df['Launch Site']=='KSC LC-39A'], values='class', names='Launch Site')\n",
        "    return fig\n",
        "  elif entered_site == 'CCAFS LC-40':\n",
        "    fig = px.pie(filtered_df[filtered_df['Launch Site']=='CCAFS LC-40'], values='class', names='Launch Site')\n",
        "    return fig\n",
        "  elif entered_site == 'VAFB SLC-4E':\n",
        "    fig = px.pie(filtered_df[filtered_df['Launch Site']=='VAFB SLC-4E'], values='class', names='Launch Site')\n",
        "    return fig\n",
        "  else:\n",
        "    fig = px.pie(filtered_df[filtered_df['Launch Site']=='CCAFS SLC-40'], values='class', names='Launch Site')\n",
        "    return fig"
      ],
      "execution_count": 12,
      "outputs": []
    },
    {
      "cell_type": "code",
      "metadata": {
        "id": "rvihGkAVy4FN"
      },
      "source": [
        "@app.callback(\n",
        "    Output(component_id='success-payload-scatter-chart', component_property='figure'),\n",
        "    Input(component_id='site-dropdown', component_property='value'),\n",
        "    Input(component_id='payload-slider', component_property='value')\n",
        ")\n",
        "def get_scatter_chart(entered_site, entered_range):\n",
        "  range_list = format(entered_range)\n",
        "  min = range_list[0]\n",
        "  max = range_list[1]\n",
        "  filtered_df = spacex_df[spacex_df['Payload Mass (kg)']<max and spacex_df['Payload Mass (kg)']>min]\n",
        "  if entered_site == 'ALL':\n",
        "    fig = px.scatter(filtered_df, x='Payload Mass (kg)', y='class', color='Booster Version Category')\n",
        "    return fig\n",
        "  elif entered_site == 'KSC LC-39A':\n",
        "    fig = px.scatter(filtered_df[filtered_df['Launch Site']=='KSC LC-39A'], x='Payload Mass (kg)', y='class', color='Booster Version Category')\n",
        "    return fig\n",
        "  elif entered_site == 'CCAFS LC-40':\n",
        "    fig = px.scatter(filtered_df[filtered_df['Launch Site']=='CCAFS LC-40'], x='Payload Mass (kg)', y='class', color='Booster Version Category')\n",
        "    return fig\n",
        "  elif entered_site == 'VAFB SLC-4E':\n",
        "    fig = px.scatter(filtered_df[filtered_df['Launch Site']=='VAFB SLC-4E'], x='Payload Mass (kg)', y='class', color='Booster Version Category')\n",
        "    return fig\n",
        "  else:\n",
        "    fig = px.scatter(filtered_df[filtered_df['Launch Site']=='CCAFS SLC-40'], x='Payload Mass (kg)', y='class', color='Booster Version Category')\n",
        "    return fig"
      ],
      "execution_count": 13,
      "outputs": []
    },
    {
      "cell_type": "code",
      "metadata": {
        "id": "zfH2uKDM4yoz"
      },
      "source": [
        "if __name__ == '__main__':\n",
        "    app.run_server()"
      ],
      "execution_count": null,
      "outputs": []
    }
  ]
}